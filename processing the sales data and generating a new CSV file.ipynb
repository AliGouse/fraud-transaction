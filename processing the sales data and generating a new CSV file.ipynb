{
 "cells": [
  {
   "cell_type": "code",
   "execution_count": 2,
   "id": "a956c899",
   "metadata": {},
   "outputs": [
    {
     "name": "stdout",
     "output_type": "stream",
     "text": [
      "Output saved to 'Ali_gouse_products.csv' with columns: 'Category', 'Product', 'Sales Percentage'\n"
     ]
    }
   ],
   "source": [
    "import pandas as pd\n",
    "\n",
    "# Read the input CSV file\n",
    "input_file = \"Sample Dataset for Coding Task.csv\"\n",
    "output_file = \"Ali_gouse_products.csv\"\n",
    "\n",
    "try:\n",
    "    df = pd.read_csv(input_file)\n",
    "except FileNotFoundError:\n",
    "    print(f\"Error: File '{input_file}' not found.\")\n",
    "    exit()\n",
    "\n",
    "# Calculate total sales for each category\n",
    "category_sales = df.groupby('Category')['Sales'].transform('sum')\n",
    "\n",
    "# Calculate percentage of sales for each product within its category\n",
    "df['Sales Percentage'] = (df['Sales'] / category_sales) * 100\n",
    "df['Sales Percentage'] = df['Sales Percentage'].round(2)\n",
    "\n",
    "# Prepare the final dataframe with required columns\n",
    "output_df = df[['Category', 'Product', 'Sales Percentage']]\n",
    "\n",
    "# Sort by Category and Sales Percentage\n",
    "output_df = output_df.sort_values(by=['Category', 'Sales Percentage'], ascending=[True, False])\n",
    "\n",
    "# Save the output to a new CSV file with tab-separated values\n",
    "output_df.to_csv(output_file, index=False, sep='\\t')\n",
    "\n",
    "print(f\"Output saved to '{output_file}' with columns: 'Category', 'Product', 'Sales Percentage'\")\n"
   ]
  },
  {
   "cell_type": "code",
   "execution_count": null,
   "id": "f9e0ed7a",
   "metadata": {},
   "outputs": [],
   "source": []
  }
 ],
 "metadata": {
  "kernelspec": {
   "display_name": "Python 3",
   "language": "python",
   "name": "python3"
  },
  "language_info": {
   "codemirror_mode": {
    "name": "ipython",
    "version": 3
   },
   "file_extension": ".py",
   "mimetype": "text/x-python",
   "name": "python",
   "nbconvert_exporter": "python",
   "pygments_lexer": "ipython3",
   "version": "3.11.4"
  }
 },
 "nbformat": 4,
 "nbformat_minor": 5
}
